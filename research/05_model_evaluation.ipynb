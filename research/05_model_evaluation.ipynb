{
 "cells": [
  {
   "cell_type": "code",
   "execution_count": 2,
   "metadata": {},
   "outputs": [],
   "source": [
    "import os"
   ]
  },
  {
   "cell_type": "code",
   "execution_count": 3,
   "metadata": {},
   "outputs": [
    {
     "data": {
      "text/plain": [
       "'d:\\\\A_Category\\\\iNeuron\\\\End-To-End-NLP-Project-News-Article-Sorting\\\\research'"
      ]
     },
     "execution_count": 3,
     "metadata": {},
     "output_type": "execute_result"
    }
   ],
   "source": [
    "%pwd"
   ]
  },
  {
   "cell_type": "code",
   "execution_count": 4,
   "metadata": {},
   "outputs": [],
   "source": [
    "os.chdir(\"../\")"
   ]
  },
  {
   "cell_type": "code",
   "execution_count": 5,
   "metadata": {},
   "outputs": [
    {
     "data": {
      "text/plain": [
       "'d:\\\\A_Category\\\\iNeuron\\\\End-To-End-NLP-Project-News-Article-Sorting'"
      ]
     },
     "execution_count": 5,
     "metadata": {},
     "output_type": "execute_result"
    }
   ],
   "source": [
    "%pwd"
   ]
  },
  {
   "cell_type": "code",
   "execution_count": 6,
   "metadata": {},
   "outputs": [],
   "source": [
    "from dataclasses import dataclass\n",
    "from pathlib import Path\n",
    "\n",
    "\n",
    "@dataclass(frozen= True)\n",
    "class ModelEvaluationConfig:\n",
    "    root_dir: Path\n",
    "    test_data_path:Path\n",
    "    model_path:  Path\n",
    "    tokenizer_path: Path\n",
    "    metric_file_name: Path\n"
   ]
  },
  {
   "cell_type": "code",
   "execution_count": 7,
   "metadata": {},
   "outputs": [],
   "source": [
    "from ArticleSorting.constants import *\n",
    "from ArticleSorting.utils.common import read_yaml, create_directories"
   ]
  },
  {
   "cell_type": "code",
   "execution_count": 8,
   "metadata": {},
   "outputs": [],
   "source": [
    "class ConfigurationManager:\n",
    "    def __init__(self, \n",
    "                 config_filepath = CONFIG_FILE_PATH,\n",
    "                 params_filepath = PARAMS_FILE_PATH):\n",
    "        \n",
    "        self.config = read_yaml(config_filepath)\n",
    "        self.params = read_yaml(params_filepath)\n",
    "\n",
    "        create_directories([self.config.artifacts_root])\n",
    "\n",
    "    \n",
    "    def get_model_evaluation_config(self) -> ModelEvaluationConfig:\n",
    "        config = self.config.model_evaluation\n",
    "      \n",
    "        create_directories([config.root_dir])\n",
    "\n",
    "        model_evaluation_config = ModelEvaluationConfig(\n",
    "            root_dir = config.root_dir,\n",
    "            test_data_path = config.test_data_path,\n",
    "            model_path = config.model_path,\n",
    "            tokenizer_path = config.tokenizer_path,\n",
    "            metric_file_name = config.metric_file_name\n",
    "\n",
    "        )\n",
    "        return model_evaluation_config\n"
   ]
  },
  {
   "cell_type": "code",
   "execution_count": 9,
   "metadata": {},
   "outputs": [],
   "source": [
    "from transformers import AutoModelForSequenceClassification, AutoTokenizer\n",
    "from datasets import load_from_disk, load_metric\n",
    "import torch\n",
    "import pandas as pd\n",
    "from tqdm import tqdm\n",
    "import evaluate\n",
    "from torch.utils.data import DataLoader"
   ]
  },
  {
   "cell_type": "code",
   "execution_count": 25,
   "metadata": {},
   "outputs": [],
   "source": [
    "class ModelEvaluation:\n",
    "    def __init__(self, config: ModelEvaluationConfig) :\n",
    "        self.config = config\n",
    "        \n",
    "    #def evaluate():\n",
    "     #   accuracy = evaluate.load(\"accuracy\")\n",
    "\n",
    "    def evaluate(self):\n",
    "\n",
    "        device = \"cuda\" if torch.cuda.is_available() else \"cpu\"\n",
    "        kwargs = {'num_workers': 1, 'pin_memory': True} if device=='cuda' else {}\n",
    "        torch.cuda.empty_cache() # Empty cache\n",
    "\n",
    "        # Loading data\n",
    "        test_dataset = load_from_disk(self.config.test_data_path)\n",
    "        print(test_dataset)\n",
    "\n",
    "        # DataLoader\n",
    "        test_dataloader = DataLoader(dataset=test_dataset, shuffle=True, batch_size=4, **kwargs)\n",
    "\n",
    "    \n",
    "        #Loading the model \n",
    "        model = AutoModelForSequenceClassification.from_pretrained(self.config.model_path).to(device)\n",
    "\n",
    "\n",
    "        # Tracking variables\n",
    "        predictions_labels = []\n",
    "        true_labels = []\n",
    "        \n",
    "        total_acc_test = 0\n",
    "        with torch.no_grad():\n",
    "            for test_input, test_label in enumerate(test_dataloader):\n",
    "                test_label = test_label.to(device)\n",
    "                mask = test_input['attention_mask'].to(device)\n",
    "                input_id = test_input['input_ids'].squeeze(1).to(device)\n",
    "\n",
    "                output = model(input_id, mask)\n",
    "\n",
    "                acc = (output.argmax(dim=1) == test_label).sum().item()\n",
    "                total_acc_test += acc\n",
    "                \n",
    "                # add original labels\n",
    "                true_labels += test_label.cpu().numpy().flatten().tolist()\n",
    "                # get predicitons to list\n",
    "                predictions_labels += output.argmax(dim=1).cpu().numpy().flatten().tolist()\n",
    "        \n",
    "        print(f'Test Accuracy: {total_acc_test / len(test_dataset): .3f}')\n",
    "        return true_labels, predictions_labels\n",
    "         \n"
   ]
  },
  {
   "cell_type": "code",
   "execution_count": 26,
   "metadata": {},
   "outputs": [
    {
     "name": "stdout",
     "output_type": "stream",
     "text": [
      "[2023-11-21 20:51:27,708:  INFO: common: yaml file:config\\config.yaml loaded successfully]\n",
      "[2023-11-21 20:51:27,713:  INFO: common: yaml file:params.yaml loaded successfully]\n",
      "[2023-11-21 20:51:27,716:  INFO: common: created directory at : artifacts]\n",
      "[2023-11-21 20:51:27,718:  INFO: common: created directory at : artifacts/model_evaluation]\n"
     ]
    },
    {
     "name": "stdout",
     "output_type": "stream",
     "text": [
      "Dataset({\n",
      "    features: ['labels', 'input_ids', 'token_type_ids', 'attention_mask'],\n",
      "    num_rows: 149\n",
      "})\n"
     ]
    },
    {
     "ename": "AttributeError",
     "evalue": "'dict' object has no attribute 'to'",
     "output_type": "error",
     "traceback": [
      "\u001b[1;31m---------------------------------------------------------------------------\u001b[0m",
      "\u001b[1;31mAttributeError\u001b[0m                            Traceback (most recent call last)",
      "\u001b[1;32md:\\A_Category\\iNeuron\\End-To-End-NLP-Project-News-Article-Sorting\\research\\05_model_evaluation.ipynb Cell 10\u001b[0m line \u001b[0;36m8\n\u001b[0;32m      <a href='vscode-notebook-cell:/d%3A/A_Category/iNeuron/End-To-End-NLP-Project-News-Article-Sorting/research/05_model_evaluation.ipynb#X12sZmlsZQ%3D%3D?line=4'>5</a>\u001b[0m     model_evaluation\u001b[39m.\u001b[39mevaluate()\n\u001b[0;32m      <a href='vscode-notebook-cell:/d%3A/A_Category/iNeuron/End-To-End-NLP-Project-News-Article-Sorting/research/05_model_evaluation.ipynb#X12sZmlsZQ%3D%3D?line=6'>7</a>\u001b[0m \u001b[39mexcept\u001b[39;00m \u001b[39mException\u001b[39;00m \u001b[39mas\u001b[39;00m e:\n\u001b[1;32m----> <a href='vscode-notebook-cell:/d%3A/A_Category/iNeuron/End-To-End-NLP-Project-News-Article-Sorting/research/05_model_evaluation.ipynb#X12sZmlsZQ%3D%3D?line=7'>8</a>\u001b[0m     \u001b[39mraise\u001b[39;00m e\n",
      "\u001b[1;32md:\\A_Category\\iNeuron\\End-To-End-NLP-Project-News-Article-Sorting\\research\\05_model_evaluation.ipynb Cell 10\u001b[0m line \u001b[0;36m5\n\u001b[0;32m      <a href='vscode-notebook-cell:/d%3A/A_Category/iNeuron/End-To-End-NLP-Project-News-Article-Sorting/research/05_model_evaluation.ipynb#X12sZmlsZQ%3D%3D?line=2'>3</a>\u001b[0m     model_evaluation_config \u001b[39m=\u001b[39m config\u001b[39m.\u001b[39mget_model_evaluation_config()\n\u001b[0;32m      <a href='vscode-notebook-cell:/d%3A/A_Category/iNeuron/End-To-End-NLP-Project-News-Article-Sorting/research/05_model_evaluation.ipynb#X12sZmlsZQ%3D%3D?line=3'>4</a>\u001b[0m     model_evaluation \u001b[39m=\u001b[39m ModelEvaluation(config\u001b[39m=\u001b[39m model_evaluation_config)\n\u001b[1;32m----> <a href='vscode-notebook-cell:/d%3A/A_Category/iNeuron/End-To-End-NLP-Project-News-Article-Sorting/research/05_model_evaluation.ipynb#X12sZmlsZQ%3D%3D?line=4'>5</a>\u001b[0m     model_evaluation\u001b[39m.\u001b[39;49mevaluate()\n\u001b[0;32m      <a href='vscode-notebook-cell:/d%3A/A_Category/iNeuron/End-To-End-NLP-Project-News-Article-Sorting/research/05_model_evaluation.ipynb#X12sZmlsZQ%3D%3D?line=6'>7</a>\u001b[0m \u001b[39mexcept\u001b[39;00m \u001b[39mException\u001b[39;00m \u001b[39mas\u001b[39;00m e:\n\u001b[0;32m      <a href='vscode-notebook-cell:/d%3A/A_Category/iNeuron/End-To-End-NLP-Project-News-Article-Sorting/research/05_model_evaluation.ipynb#X12sZmlsZQ%3D%3D?line=7'>8</a>\u001b[0m     \u001b[39mraise\u001b[39;00m e\n",
      "\u001b[1;32md:\\A_Category\\iNeuron\\End-To-End-NLP-Project-News-Article-Sorting\\research\\05_model_evaluation.ipynb Cell 10\u001b[0m line \u001b[0;36m3\n\u001b[0;32m     <a href='vscode-notebook-cell:/d%3A/A_Category/iNeuron/End-To-End-NLP-Project-News-Article-Sorting/research/05_model_evaluation.ipynb#X12sZmlsZQ%3D%3D?line=31'>32</a>\u001b[0m \u001b[39mwith\u001b[39;00m torch\u001b[39m.\u001b[39mno_grad():\n\u001b[0;32m     <a href='vscode-notebook-cell:/d%3A/A_Category/iNeuron/End-To-End-NLP-Project-News-Article-Sorting/research/05_model_evaluation.ipynb#X12sZmlsZQ%3D%3D?line=32'>33</a>\u001b[0m     \u001b[39mfor\u001b[39;00m test_input, test_label \u001b[39min\u001b[39;00m \u001b[39menumerate\u001b[39m(test_dataloader):\n\u001b[1;32m---> <a href='vscode-notebook-cell:/d%3A/A_Category/iNeuron/End-To-End-NLP-Project-News-Article-Sorting/research/05_model_evaluation.ipynb#X12sZmlsZQ%3D%3D?line=33'>34</a>\u001b[0m         test_label \u001b[39m=\u001b[39m test_label\u001b[39m.\u001b[39;49mto(device)\n\u001b[0;32m     <a href='vscode-notebook-cell:/d%3A/A_Category/iNeuron/End-To-End-NLP-Project-News-Article-Sorting/research/05_model_evaluation.ipynb#X12sZmlsZQ%3D%3D?line=34'>35</a>\u001b[0m         mask \u001b[39m=\u001b[39m test_input[\u001b[39m'\u001b[39m\u001b[39mattention_mask\u001b[39m\u001b[39m'\u001b[39m]\u001b[39m.\u001b[39mto(device)\n\u001b[0;32m     <a href='vscode-notebook-cell:/d%3A/A_Category/iNeuron/End-To-End-NLP-Project-News-Article-Sorting/research/05_model_evaluation.ipynb#X12sZmlsZQ%3D%3D?line=35'>36</a>\u001b[0m         input_id \u001b[39m=\u001b[39m test_input[\u001b[39m'\u001b[39m\u001b[39minput_ids\u001b[39m\u001b[39m'\u001b[39m]\u001b[39m.\u001b[39msqueeze(\u001b[39m1\u001b[39m)\u001b[39m.\u001b[39mto(device)\n",
      "\u001b[1;31mAttributeError\u001b[0m: 'dict' object has no attribute 'to'"
     ]
    }
   ],
   "source": [
    "try:\n",
    "    config = ConfigurationManager()\n",
    "    model_evaluation_config = config.get_model_evaluation_config()\n",
    "    model_evaluation = ModelEvaluation(config= model_evaluation_config)\n",
    "    model_evaluation.evaluate()\n",
    "\n",
    "except Exception as e:\n",
    "    raise e"
   ]
  },
  {
   "cell_type": "code",
   "execution_count": null,
   "metadata": {},
   "outputs": [],
   "source": []
  }
 ],
 "metadata": {
  "kernelspec": {
   "display_name": "Python 3",
   "language": "python",
   "name": "python3"
  },
  "language_info": {
   "codemirror_mode": {
    "name": "ipython",
    "version": 3
   },
   "file_extension": ".py",
   "mimetype": "text/x-python",
   "name": "python",
   "nbconvert_exporter": "python",
   "pygments_lexer": "ipython3",
   "version": "3.8.17"
  },
  "orig_nbformat": 4
 },
 "nbformat": 4,
 "nbformat_minor": 2
}
