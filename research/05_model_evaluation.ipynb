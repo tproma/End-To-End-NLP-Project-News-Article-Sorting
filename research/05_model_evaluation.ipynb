{
 "cells": [
  {
   "cell_type": "code",
   "execution_count": 2,
   "metadata": {},
   "outputs": [],
   "source": [
    "import os"
   ]
  },
  {
   "cell_type": "code",
   "execution_count": 3,
   "metadata": {},
   "outputs": [
    {
     "data": {
      "text/plain": [
       "'d:\\\\A_Category\\\\iNeuron\\\\End-To-End-NLP-Project-News-Article-Sorting\\\\research'"
      ]
     },
     "execution_count": 3,
     "metadata": {},
     "output_type": "execute_result"
    }
   ],
   "source": [
    "%pwd"
   ]
  },
  {
   "cell_type": "code",
   "execution_count": 4,
   "metadata": {},
   "outputs": [],
   "source": [
    "os.chdir(\"../\")"
   ]
  },
  {
   "cell_type": "code",
   "execution_count": 5,
   "metadata": {},
   "outputs": [
    {
     "data": {
      "text/plain": [
       "'d:\\\\A_Category\\\\iNeuron\\\\End-To-End-NLP-Project-News-Article-Sorting'"
      ]
     },
     "execution_count": 5,
     "metadata": {},
     "output_type": "execute_result"
    }
   ],
   "source": [
    "%pwd"
   ]
  },
  {
   "cell_type": "code",
   "execution_count": 6,
   "metadata": {},
   "outputs": [],
   "source": [
    "from dataclasses import dataclass\n",
    "from pathlib import Path\n",
    "\n",
    "\n",
    "@dataclass(frozen= True)\n",
    "class ModelEvaluationConfig:\n",
    "    root_dir: Path\n",
    "    test_data_path:Path\n",
    "    model_path:  Path\n",
    "    tokenizer_path: Path\n",
    "    metric_file_name: Path\n"
   ]
  },
  {
   "cell_type": "code",
   "execution_count": 7,
   "metadata": {},
   "outputs": [],
   "source": [
    "from ArticleSorting.constants import *\n",
    "from ArticleSorting.utils.common import read_yaml, create_directories"
   ]
  },
  {
   "cell_type": "code",
   "execution_count": 8,
   "metadata": {},
   "outputs": [],
   "source": [
    "class ConfigurationManager:\n",
    "    def __init__(self, \n",
    "                 config_filepath = CONFIG_FILE_PATH,\n",
    "                 params_filepath = PARAMS_FILE_PATH):\n",
    "        \n",
    "        self.config = read_yaml(config_filepath)\n",
    "        self.params = read_yaml(params_filepath)\n",
    "\n",
    "        create_directories([self.config.artifacts_root])\n",
    "\n",
    "    \n",
    "    def get_model_evaluation_config(self) -> ModelEvaluationConfig:\n",
    "        config = self.config.model_evaluation\n",
    "      \n",
    "        create_directories([config.root_dir])\n",
    "\n",
    "        model_evaluation_config = ModelEvaluationConfig(\n",
    "            root_dir = config.root_dir,\n",
    "            test_data_path = config.test_data_path,\n",
    "            model_path = config.model_path,\n",
    "            tokenizer_path = config.tokenizer_path,\n",
    "            metric_file_name = config.metric_file_name\n",
    "\n",
    "        )\n",
    "        return model_evaluation_config\n"
   ]
  },
  {
   "cell_type": "code",
   "execution_count": 27,
   "metadata": {},
   "outputs": [],
   "source": [
    "from transformers import AutoModelForSequenceClassification, AutoTokenizer\n",
    "from datasets import load_from_disk, load_metric\n",
    "import torch\n",
    "import pandas as pd\n",
    "from tqdm import tqdm\n",
    "import evaluate\n",
    "from torch.utils.data import DataLoader\n",
    "import numpy as np"
   ]
  },
  {
   "cell_type": "code",
   "execution_count": 36,
   "metadata": {},
   "outputs": [],
   "source": [
    "class ModelEvaluation:\n",
    "    def __init__(self, config: ModelEvaluationConfig) :\n",
    "        self.config = config\n",
    "        \n",
    "    \n",
    "    def evaluate(self):\n",
    "\n",
    "        device = \"cuda\" if torch.cuda.is_available() else \"cpu\"\n",
    "        kwargs = {'num_workers': 1, 'pin_memory': True} if device=='cuda' else {}\n",
    "        torch.cuda.empty_cache() # Empty cache\n",
    "\n",
    "        # Loading data\n",
    "        test_dataset = load_from_disk(self.config.test_data_path)\n",
    "        #print(test_dataset)\n",
    "\n",
    "        # DataLoader\n",
    "        test_dataloader = DataLoader(dataset=test_dataset, shuffle=True, batch_size=4, **kwargs)\n",
    "\n",
    "    \n",
    "        #Loading the model \n",
    "        model = AutoModelForSequenceClassification.from_pretrained(self.config.model_path).to(device)\n",
    "\n",
    "\n",
    "        final_output = []\n",
    "\n",
    "        for b_idx, data in enumerate(test_dataloader):\n",
    "            with torch.no_grad():\n",
    "                for key, value in data.items():\n",
    "                    data[key] = value.to(device)\n",
    "                output = model(**data)\n",
    "                output = output.logits.detach().cpu().numpy()\n",
    "                final_output.extend(output)\n",
    "        \n",
    "        torch.cuda.empty_cache()\n",
    "        preds = np.vstack(final_output)\n",
    "\n",
    "        preds = np.argmax(preds, axis=1)\n",
    "        acc = (preds == test_dataset['labels']).sum()\n",
    "        Test_Accuracy = acc / len(test_dataset)\n",
    "        print(preds)\n",
    "        print(f'Test Accuracy: {Test_Accuracy: .3f}')\n"
   ]
  },
  {
   "cell_type": "code",
   "execution_count": 37,
   "metadata": {},
   "outputs": [
    {
     "name": "stdout",
     "output_type": "stream",
     "text": [
      "[2023-11-23 00:48:13,920:  INFO: common: yaml file:config\\config.yaml loaded successfully]\n",
      "[2023-11-23 00:48:13,927:  INFO: common: yaml file:params.yaml loaded successfully]\n",
      "[2023-11-23 00:48:13,930:  INFO: common: created directory at : artifacts]\n",
      "[2023-11-23 00:48:13,932:  INFO: common: created directory at : artifacts/model_evaluation]\n"
     ]
    },
    {
     "ename": "AttributeError",
     "evalue": "'bool' object has no attribute 'sum'",
     "output_type": "error",
     "traceback": [
      "\u001b[1;31m---------------------------------------------------------------------------\u001b[0m",
      "\u001b[1;31mAttributeError\u001b[0m                            Traceback (most recent call last)",
      "\u001b[1;32md:\\A_Category\\iNeuron\\End-To-End-NLP-Project-News-Article-Sorting\\research\\05_model_evaluation.ipynb Cell 10\u001b[0m line \u001b[0;36m8\n\u001b[0;32m      <a href='vscode-notebook-cell:/d%3A/A_Category/iNeuron/End-To-End-NLP-Project-News-Article-Sorting/research/05_model_evaluation.ipynb#X12sZmlsZQ%3D%3D?line=4'>5</a>\u001b[0m     model_evaluation\u001b[39m.\u001b[39mevaluate()\n\u001b[0;32m      <a href='vscode-notebook-cell:/d%3A/A_Category/iNeuron/End-To-End-NLP-Project-News-Article-Sorting/research/05_model_evaluation.ipynb#X12sZmlsZQ%3D%3D?line=6'>7</a>\u001b[0m \u001b[39mexcept\u001b[39;00m \u001b[39mException\u001b[39;00m \u001b[39mas\u001b[39;00m e:\n\u001b[1;32m----> <a href='vscode-notebook-cell:/d%3A/A_Category/iNeuron/End-To-End-NLP-Project-News-Article-Sorting/research/05_model_evaluation.ipynb#X12sZmlsZQ%3D%3D?line=7'>8</a>\u001b[0m     \u001b[39mraise\u001b[39;00m e\n",
      "\u001b[1;32md:\\A_Category\\iNeuron\\End-To-End-NLP-Project-News-Article-Sorting\\research\\05_model_evaluation.ipynb Cell 10\u001b[0m line \u001b[0;36m5\n\u001b[0;32m      <a href='vscode-notebook-cell:/d%3A/A_Category/iNeuron/End-To-End-NLP-Project-News-Article-Sorting/research/05_model_evaluation.ipynb#X12sZmlsZQ%3D%3D?line=2'>3</a>\u001b[0m     model_evaluation_config \u001b[39m=\u001b[39m config\u001b[39m.\u001b[39mget_model_evaluation_config()\n\u001b[0;32m      <a href='vscode-notebook-cell:/d%3A/A_Category/iNeuron/End-To-End-NLP-Project-News-Article-Sorting/research/05_model_evaluation.ipynb#X12sZmlsZQ%3D%3D?line=3'>4</a>\u001b[0m     model_evaluation \u001b[39m=\u001b[39m ModelEvaluation(config\u001b[39m=\u001b[39m model_evaluation_config)\n\u001b[1;32m----> <a href='vscode-notebook-cell:/d%3A/A_Category/iNeuron/End-To-End-NLP-Project-News-Article-Sorting/research/05_model_evaluation.ipynb#X12sZmlsZQ%3D%3D?line=4'>5</a>\u001b[0m     model_evaluation\u001b[39m.\u001b[39;49mevaluate()\n\u001b[0;32m      <a href='vscode-notebook-cell:/d%3A/A_Category/iNeuron/End-To-End-NLP-Project-News-Article-Sorting/research/05_model_evaluation.ipynb#X12sZmlsZQ%3D%3D?line=6'>7</a>\u001b[0m \u001b[39mexcept\u001b[39;00m \u001b[39mException\u001b[39;00m \u001b[39mas\u001b[39;00m e:\n\u001b[0;32m      <a href='vscode-notebook-cell:/d%3A/A_Category/iNeuron/End-To-End-NLP-Project-News-Article-Sorting/research/05_model_evaluation.ipynb#X12sZmlsZQ%3D%3D?line=7'>8</a>\u001b[0m     \u001b[39mraise\u001b[39;00m e\n",
      "\u001b[1;32md:\\A_Category\\iNeuron\\End-To-End-NLP-Project-News-Article-Sorting\\research\\05_model_evaluation.ipynb Cell 10\u001b[0m line \u001b[0;36m3\n\u001b[0;32m     <a href='vscode-notebook-cell:/d%3A/A_Category/iNeuron/End-To-End-NLP-Project-News-Article-Sorting/research/05_model_evaluation.ipynb#X12sZmlsZQ%3D%3D?line=34'>35</a>\u001b[0m preds \u001b[39m=\u001b[39m np\u001b[39m.\u001b[39mvstack(final_output)\n\u001b[0;32m     <a href='vscode-notebook-cell:/d%3A/A_Category/iNeuron/End-To-End-NLP-Project-News-Article-Sorting/research/05_model_evaluation.ipynb#X12sZmlsZQ%3D%3D?line=36'>37</a>\u001b[0m preds \u001b[39m=\u001b[39m np\u001b[39m.\u001b[39margmax(preds, axis\u001b[39m=\u001b[39m\u001b[39m1\u001b[39m)\n\u001b[1;32m---> <a href='vscode-notebook-cell:/d%3A/A_Category/iNeuron/End-To-End-NLP-Project-News-Article-Sorting/research/05_model_evaluation.ipynb#X12sZmlsZQ%3D%3D?line=37'>38</a>\u001b[0m acc \u001b[39m=\u001b[39m (preds \u001b[39m==\u001b[39;49m test_dataset[\u001b[39m'\u001b[39;49m\u001b[39mlabels\u001b[39;49m\u001b[39m'\u001b[39;49m])\u001b[39m.\u001b[39;49msum()\n\u001b[0;32m     <a href='vscode-notebook-cell:/d%3A/A_Category/iNeuron/End-To-End-NLP-Project-News-Article-Sorting/research/05_model_evaluation.ipynb#X12sZmlsZQ%3D%3D?line=38'>39</a>\u001b[0m Test_Accuracy \u001b[39m=\u001b[39m acc \u001b[39m/\u001b[39m \u001b[39mlen\u001b[39m(test_dataset)\n\u001b[0;32m     <a href='vscode-notebook-cell:/d%3A/A_Category/iNeuron/End-To-End-NLP-Project-News-Article-Sorting/research/05_model_evaluation.ipynb#X12sZmlsZQ%3D%3D?line=39'>40</a>\u001b[0m \u001b[39mprint\u001b[39m(preds)\n",
      "\u001b[1;31mAttributeError\u001b[0m: 'bool' object has no attribute 'sum'"
     ]
    }
   ],
   "source": [
    "try:\n",
    "    config = ConfigurationManager()\n",
    "    model_evaluation_config = config.get_model_evaluation_config()\n",
    "    model_evaluation = ModelEvaluation(config= model_evaluation_config)\n",
    "    model_evaluation.evaluate()\n",
    "\n",
    "except Exception as e:\n",
    "    raise e"
   ]
  },
  {
   "cell_type": "code",
   "execution_count": null,
   "metadata": {},
   "outputs": [],
   "source": []
  }
 ],
 "metadata": {
  "kernelspec": {
   "display_name": "Python 3",
   "language": "python",
   "name": "python3"
  },
  "language_info": {
   "codemirror_mode": {
    "name": "ipython",
    "version": 3
   },
   "file_extension": ".py",
   "mimetype": "text/x-python",
   "name": "python",
   "nbconvert_exporter": "python",
   "pygments_lexer": "ipython3",
   "version": "3.8.17"
  },
  "orig_nbformat": 4
 },
 "nbformat": 4,
 "nbformat_minor": 2
}
